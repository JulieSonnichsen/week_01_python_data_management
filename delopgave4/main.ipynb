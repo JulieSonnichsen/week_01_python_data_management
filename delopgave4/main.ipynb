{
 "cells": [
  {
   "cell_type": "code",
   "execution_count": null,
   "id": "0afc1efe",
   "metadata": {},
   "outputs": [],
   "source": [
    "import pandas as pd\n",
    "import matplotlib.pyplot as plt\n",
    "\n"
   ]
  },
  {
   "cell_type": "code",
   "execution_count": null,
   "id": "b9514e20",
   "metadata": {},
   "outputs": [],
   "source": [
    "df = pd.read_csv('delopgave4/data/DKHousingPricesSample100k.csv')\n",
    "\n",
    "city = 'Odense S'\n",
    "\n",
    "df_filtered = df[df['city'] == city]\n",
    "\n",
    "df_filtered['date'] = pd.to_datetime(df_filtered['date'])\n",
    "\n",
    "df_filtered['year'] = df_filtered['date'].dt.year\n",
    "\n",
    "result = df_filtered.groupby('year')['sqm_price'].mean()\n",
    "\n"
   ]
  }
 ],
 "metadata": {
  "kernelspec": {
   "display_name": ".venv",
   "language": "python",
   "name": "python3"
  },
  "language_info": {
   "codemirror_mode": {
    "name": "ipython",
    "version": 3
   },
   "file_extension": ".py",
   "mimetype": "text/x-python",
   "name": "python",
   "nbconvert_exporter": "python",
   "pygments_lexer": "ipython3",
   "version": "3.13.7"
  }
 },
 "nbformat": 4,
 "nbformat_minor": 5
}
